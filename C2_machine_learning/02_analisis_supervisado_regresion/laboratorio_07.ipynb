{
 "cells": [
  {
   "cell_type": "markdown",
   "metadata": {},
   "source": [
    "<img src=\"images/usm.jpg\" width=\"480\" height=\"240\" align=\"left\"/>"
   ]
  },
  {
   "cell_type": "markdown",
   "metadata": {},
   "source": [
    "# MAT281 - Laboratorios N°01\n",
    "\n",
    "## Objetivos del laboratorio\n",
    "\n",
    "* Reforzar conceptos básicos de regresión lineal."
   ]
  },
  {
   "cell_type": "markdown",
   "metadata": {},
   "source": [
    "## Contenidos\n",
    "\n",
    "* [Problema 01](#p1)\n"
   ]
  },
  {
   "cell_type": "markdown",
   "metadata": {},
   "source": [
    "<a id='p1'></a>\n",
    "## I.- Problema 01\n",
    "\n",
    "\n",
    "<img src=\"https://upload.wikimedia.org/wikipedia/commons/thumb/b/b6/Anscombe.svg/1200px-Anscombe.svg.png\" width=\"360\" height=\"360\" align=\"center\"/>\n",
    "\n"
   ]
  },
  {
   "cell_type": "markdown",
   "metadata": {},
   "source": [
    "El **cuarteto de Anscombe** comprende cuatro conjuntos de datos que tienen las mismas propiedades estadísticas, pero que evidentemente son distintas al inspeccionar sus gráficos respectivos.\n",
    "\n",
    "Cada conjunto consiste de once puntos (x, y) y fueron construidos por el estadístico F. J. Anscombe. El cuarteto es una demostración de la importancia de mirar gráficamente un conjunto de datos antes de analizarlos."
   ]
  },
  {
   "cell_type": "code",
   "execution_count": 1,
   "metadata": {},
   "outputs": [],
   "source": [
    "import os\n",
    "import numpy as np\n",
    "import pandas as pd\n",
    "import matplotlib.pyplot as plt\n",
    "import seaborn as sns\n",
    "\n",
    "%matplotlib inline\n",
    "sns.set_palette(\"deep\", desat=.6)\n",
    "sns.set(rc={'figure.figsize':(11.7,8.27)})"
   ]
  },
  {
   "cell_type": "code",
   "execution_count": 2,
   "metadata": {},
   "outputs": [
    {
     "data": {
      "text/html": [
       "<div>\n",
       "<style scoped>\n",
       "    .dataframe tbody tr th:only-of-type {\n",
       "        vertical-align: middle;\n",
       "    }\n",
       "\n",
       "    .dataframe tbody tr th {\n",
       "        vertical-align: top;\n",
       "    }\n",
       "\n",
       "    .dataframe thead th {\n",
       "        text-align: right;\n",
       "    }\n",
       "</style>\n",
       "<table border=\"1\" class=\"dataframe\">\n",
       "  <thead>\n",
       "    <tr style=\"text-align: right;\">\n",
       "      <th></th>\n",
       "      <th>x</th>\n",
       "      <th>y</th>\n",
       "      <th>grupo</th>\n",
       "    </tr>\n",
       "  </thead>\n",
       "  <tbody>\n",
       "    <tr>\n",
       "      <th>0</th>\n",
       "      <td>10</td>\n",
       "      <td>8.04</td>\n",
       "      <td>Grupo_1</td>\n",
       "    </tr>\n",
       "    <tr>\n",
       "      <th>1</th>\n",
       "      <td>8</td>\n",
       "      <td>6.95</td>\n",
       "      <td>Grupo_1</td>\n",
       "    </tr>\n",
       "    <tr>\n",
       "      <th>2</th>\n",
       "      <td>13</td>\n",
       "      <td>7.58</td>\n",
       "      <td>Grupo_1</td>\n",
       "    </tr>\n",
       "    <tr>\n",
       "      <th>3</th>\n",
       "      <td>9</td>\n",
       "      <td>8.81</td>\n",
       "      <td>Grupo_1</td>\n",
       "    </tr>\n",
       "    <tr>\n",
       "      <th>4</th>\n",
       "      <td>11</td>\n",
       "      <td>8.33</td>\n",
       "      <td>Grupo_1</td>\n",
       "    </tr>\n",
       "  </tbody>\n",
       "</table>\n",
       "</div>"
      ],
      "text/plain": [
       "    x     y    grupo\n",
       "0  10  8.04  Grupo_1\n",
       "1   8  6.95  Grupo_1\n",
       "2  13  7.58  Grupo_1\n",
       "3   9  8.81  Grupo_1\n",
       "4  11  8.33  Grupo_1"
      ]
     },
     "execution_count": 2,
     "metadata": {},
     "output_type": "execute_result"
    }
   ],
   "source": [
    "# cargar datos\n",
    "df = pd.read_csv(os.path.join(\"data\",\"anscombe.csv\"), sep=\",\")\n",
    "df.head()"
   ]
  },
  {
   "cell_type": "markdown",
   "metadata": {},
   "source": [
    "Basado en la información presentada responda las siguientes preguntas:\n",
    "\n",
    "1. Gráfique mediante un gráfico tipo **scatter** cada grupo. A simple vista, ¿ los grupos son muy distintos entre si?.\n",
    "2. Realice un resumen de las medidas estadísticas más significativas ocuapando el comando **describe** para cada grupo. Interprete.\n",
    "3. Realice un ajuste lineal para cada grupo. Además, grafique los resultados de la regresión lineal para cada grupo. Interprete.\n",
    "4. Calcule los resultados de las métricas para cada grupo. Interprete.\n",
    "5. Es claro que el ajuste lineal para algunos grupos no es el correcto. Existen varias formas de solucionar este problema (eliminar outliers, otros modelos, etc.). Identifique una estrategia para que el modelo de regresión lineal ajuste de mejor manera e implemente otros modelos en los casos que encuentre necesario.  "
   ]
  },
  {
   "cell_type": "markdown",
   "metadata": {},
   "source": [
    "# Parte1"
   ]
  },
  {
   "cell_type": "code",
   "execution_count": 3,
   "metadata": {},
   "outputs": [
    {
     "data": {
      "text/plain": [
       "<AxesSubplot:xlabel='x', ylabel='y'>"
      ]
     },
     "execution_count": 3,
     "metadata": {},
     "output_type": "execute_result"
    },
    {
     "data": {
      "image/png": "[encoded data removed]",
      "text/plain": [
       "<Figure size 1080x432 with 4 Axes>"
      ]
     },
     "metadata": {},
     "output_type": "display_data"
    }
   ],
   "source": [
    "grupos=df.groupby('grupo')\n",
    "plt.figure(figsize=(15,6))\n",
    "g1=plt.subplot(2,2,1)\n",
    "g2=plt.subplot(2,2,2)\n",
    "g3=plt.subplot(2,2,3)\n",
    "g4=plt.subplot(2,2,4)\n",
    "sns.scatterplot(x='x', y='y', data=grupos.get_group('Grupo_1'), ax=g1)\n",
    "sns.scatterplot(x='x', y='y', data=grupos.get_group('Grupo_2'), ax=g2)\n",
    "sns.scatterplot(x='x', y='y', data=grupos.get_group('Grupo_3'), ax=g3)\n",
    "sns.scatterplot(x='x', y='y', data=grupos.get_group('Grupo_4'), ax=g4)"
   ]
  },
  {
   "cell_type": "markdown",
   "metadata": {},
   "source": [
    "Los grupos son MUY distintos entre si, de hecho algunos no tienen comportamiento lineal."
   ]
  },
  {
   "cell_type": "markdown",
   "metadata": {},
   "source": [
    "# Parte 2"
   ]
  },
  {
   "cell_type": "code",
   "execution_count": 4,
   "metadata": {
    "scrolled": true
   },
   "outputs": [
    {
     "data": {
      "text/html": [
       "<div>\n",
       "<style scoped>\n",
       "    .dataframe tbody tr th:only-of-type {\n",
       "        vertical-align: middle;\n",
       "    }\n",
       "\n",
       "    .dataframe tbody tr th {\n",
       "        vertical-align: top;\n",
       "    }\n",
       "\n",
       "    .dataframe thead tr th {\n",
       "        text-align: left;\n",
       "    }\n",
       "\n",
       "    .dataframe thead tr:last-of-type th {\n",
       "        text-align: right;\n",
       "    }\n",
       "</style>\n",
       "<table border=\"1\" class=\"dataframe\">\n",
       "  <thead>\n",
       "    <tr>\n",
       "      <th></th>\n",
       "      <th colspan=\"8\" halign=\"left\">x</th>\n",
       "      <th colspan=\"8\" halign=\"left\">y</th>\n",
       "    </tr>\n",
       "    <tr>\n",
       "      <th></th>\n",
       "      <th>count</th>\n",
       "      <th>mean</th>\n",
       "      <th>std</th>\n",
       "      <th>min</th>\n",
       "      <th>25%</th>\n",
       "      <th>50%</th>\n",
       "      <th>75%</th>\n",
       "      <th>max</th>\n",
       "      <th>count</th>\n",
       "      <th>mean</th>\n",
       "      <th>std</th>\n",
       "      <th>min</th>\n",
       "      <th>25%</th>\n",
       "      <th>50%</th>\n",
       "      <th>75%</th>\n",
       "      <th>max</th>\n",
       "    </tr>\n",
       "    <tr>\n",
       "      <th>grupo</th>\n",
       "      <th></th>\n",
       "      <th></th>\n",
       "      <th></th>\n",
       "      <th></th>\n",
       "      <th></th>\n",
       "      <th></th>\n",
       "      <th></th>\n",
       "      <th></th>\n",
       "      <th></th>\n",
       "      <th></th>\n",
       "      <th></th>\n",
       "      <th></th>\n",
       "      <th></th>\n",
       "      <th></th>\n",
       "      <th></th>\n",
       "      <th></th>\n",
       "    </tr>\n",
       "  </thead>\n",
       "  <tbody>\n",
       "    <tr>\n",
       "      <th>Grupo_1</th>\n",
       "      <td>11.0</td>\n",
       "      <td>9.0</td>\n",
       "      <td>3.316625</td>\n",
       "      <td>4.0</td>\n",
       "      <td>6.5</td>\n",
       "      <td>9.0</td>\n",
       "      <td>11.5</td>\n",
       "      <td>14.0</td>\n",
       "      <td>11.0</td>\n",
       "      <td>7.500909</td>\n",
       "      <td>2.031568</td>\n",
       "      <td>4.26</td>\n",
       "      <td>6.315</td>\n",
       "      <td>7.58</td>\n",
       "      <td>8.57</td>\n",
       "      <td>10.84</td>\n",
       "    </tr>\n",
       "    <tr>\n",
       "      <th>Grupo_2</th>\n",
       "      <td>11.0</td>\n",
       "      <td>9.0</td>\n",
       "      <td>3.316625</td>\n",
       "      <td>4.0</td>\n",
       "      <td>6.5</td>\n",
       "      <td>9.0</td>\n",
       "      <td>11.5</td>\n",
       "      <td>14.0</td>\n",
       "      <td>11.0</td>\n",
       "      <td>7.500909</td>\n",
       "      <td>2.031657</td>\n",
       "      <td>3.10</td>\n",
       "      <td>6.695</td>\n",
       "      <td>8.14</td>\n",
       "      <td>8.95</td>\n",
       "      <td>9.26</td>\n",
       "    </tr>\n",
       "    <tr>\n",
       "      <th>Grupo_3</th>\n",
       "      <td>11.0</td>\n",
       "      <td>9.0</td>\n",
       "      <td>3.316625</td>\n",
       "      <td>4.0</td>\n",
       "      <td>6.5</td>\n",
       "      <td>9.0</td>\n",
       "      <td>11.5</td>\n",
       "      <td>14.0</td>\n",
       "      <td>11.0</td>\n",
       "      <td>7.500000</td>\n",
       "      <td>2.030424</td>\n",
       "      <td>5.39</td>\n",
       "      <td>6.250</td>\n",
       "      <td>7.11</td>\n",
       "      <td>7.98</td>\n",
       "      <td>12.74</td>\n",
       "    </tr>\n",
       "    <tr>\n",
       "      <th>Grupo_4</th>\n",
       "      <td>11.0</td>\n",
       "      <td>9.0</td>\n",
       "      <td>3.316625</td>\n",
       "      <td>8.0</td>\n",
       "      <td>8.0</td>\n",
       "      <td>8.0</td>\n",
       "      <td>8.0</td>\n",
       "      <td>19.0</td>\n",
       "      <td>11.0</td>\n",
       "      <td>7.500909</td>\n",
       "      <td>2.030579</td>\n",
       "      <td>5.25</td>\n",
       "      <td>6.170</td>\n",
       "      <td>7.04</td>\n",
       "      <td>8.19</td>\n",
       "      <td>12.50</td>\n",
       "    </tr>\n",
       "  </tbody>\n",
       "</table>\n",
       "</div>"
      ],
      "text/plain": [
       "            x                                               y            \\\n",
       "        count mean       std  min  25%  50%   75%   max count      mean   \n",
       "grupo                                                                     \n",
       "Grupo_1  11.0  9.0  3.316625  4.0  6.5  9.0  11.5  14.0  11.0  7.500909   \n",
       "Grupo_2  11.0  9.0  3.316625  4.0  6.5  9.0  11.5  14.0  11.0  7.500909   \n",
       "Grupo_3  11.0  9.0  3.316625  4.0  6.5  9.0  11.5  14.0  11.0  7.500000   \n",
       "Grupo_4  11.0  9.0  3.316625  8.0  8.0  8.0   8.0  19.0  11.0  7.500909   \n",
       "\n",
       "                                                   \n",
       "              std   min    25%   50%   75%    max  \n",
       "grupo                                              \n",
       "Grupo_1  2.031568  4.26  6.315  7.58  8.57  10.84  \n",
       "Grupo_2  2.031657  3.10  6.695  8.14  8.95   9.26  \n",
       "Grupo_3  2.030424  5.39  6.250  7.11  7.98  12.74  \n",
       "Grupo_4  2.030579  5.25  6.170  7.04  8.19  12.50  "
      ]
     },
     "execution_count": 4,
     "metadata": {},
     "output_type": "execute_result"
    }
   ],
   "source": [
    "df.groupby(['grupo']).describe()"
   ]
  },
  {
   "cell_type": "markdown",
   "metadata": {},
   "source": [
    "# Parte 3"
   ]
  },
  {
   "cell_type": "code",
   "execution_count": 5,
   "metadata": {},
   "outputs": [],
   "source": [
    "from sklearn import datasets\n",
    "from sklearn.model_selection import train_test_split\n"
   ]
  },
  {
   "cell_type": "code",
   "execution_count": 6,
   "metadata": {},
   "outputs": [
    {
     "name": "stdout",
     "output_type": "stream",
     "text": [
      "El mejor ajuste lineal para el grupo 1 viene dado por la recta: \n",
      "\n",
      "     f(x) = 2.6287 + 0.5419*x\n",
      "El mejor ajuste lineal para el grupo 2 viene dado por la recta: \n",
      "\n",
      "     f(x) = 2.9306 + 0.5122*x\n",
      "El mejor ajuste lineal para el grupo 3 viene dado por la recta: \n",
      "\n",
      "     f(x) = 4.0069 + 0.3453*x\n",
      "El mejor ajuste lineal para el grupo 4 viene dado por la recta: \n",
      "\n",
      "     f(x) = 3.6017 + 0.4683*x\n"
     ]
    }
   ],
   "source": [
    "grupos=df.groupby('grupo')    # categorizo por grupo\n",
    "X1=grupos.get_group('Grupo_1')[['x']]  #Genero un nuevo dataframe solo del grupo1, con los valores de la columna x\n",
    "X2=grupos.get_group('Grupo_2')[['x']]  #Genero un nuevo dataframe solo del grupo2, con los valores de la columna x\n",
    "X3=grupos.get_group('Grupo_3')[['x']]  #Genero un nuevo dataframe solo del grupo3, con los valores de la columna x\n",
    "X4=grupos.get_group('Grupo_4')[['x']]  #Genero un nuevo dataframe solo del grupo4, con los valores de la columna x\n",
    "y1=grupos.get_group('Grupo_1')['y']    #Genero una nueva serie solo del grupo1, con los valores de la columna y\n",
    "y2=grupos.get_group('Grupo_2')['y']    #Genero una nueva serie solo del grupo2, con los valores de la columna y\n",
    "y3=grupos.get_group('Grupo_3')['y']    #Genero una nueva serie solo del grupo3, con los valores de la columna y\n",
    "y4=grupos.get_group('Grupo_4')['y']    #Genero una nueva serie solo del grupo4, con los valores de la columna y\n",
    "#Separo los conjuntos anteriores en partes de prueba y testeo\n",
    "X1_train, X1_test, y1_train, y1_test = train_test_split(X1, y1, test_size=0.3, random_state=77)\n",
    "X2_train, X2_test, y2_train, y2_test = train_test_split(X2, y2, test_size=0.3, random_state=77)\n",
    "X3_train, X3_test, y3_train, y3_test = train_test_split(X3, y3, test_size=0.3, random_state=77)\n",
    "X4_train, X4_test, y4_train, y4_test = train_test_split(X4, y4, test_size=0.3, random_state=77)\n",
    "# importando el modelo de regresión lineal\n",
    "from sklearn.linear_model import LinearRegression\n",
    "\n",
    "model_rl1 = LinearRegression() # Creando el modelo.\n",
    "model_rl2 = LinearRegression() # Creando el modelo.\n",
    "model_rl3 = LinearRegression() # Creando el modelo.\n",
    "model_rl4 = LinearRegression() # Creando el modelo.\n",
    "# ajustando el modelo\n",
    "model_rl1.fit(X1_train, y1_train)\n",
    "model_rl2.fit(X2_train, y2_train)\n",
    "model_rl3.fit(X3_train, y3_train)\n",
    "model_rl4.fit(X4_train, y4_train)\n",
    "# Lista de coeficientes B para cada X_train de grupo 1\n",
    "\n",
    "beta1_0 = round(model_rl1.intercept_,4)\n",
    "beta1_1 = round(model_rl1.coef_[0],4)\n",
    "\n",
    "print(f\"El mejor ajuste lineal para el grupo 1 viene dado por la recta: \\n\\n     \\\n",
    "f(x) = {beta1_0} + {beta1_1}*x\")\n",
    "# Lista de coeficientes B para cada X_train de grupo 2\n",
    "\n",
    "beta2_0 = round(model_rl2.intercept_,4)\n",
    "beta2_1 = round(model_rl2.coef_[0],4)\n",
    "\n",
    "print(f\"El mejor ajuste lineal para el grupo 2 viene dado por la recta: \\n\\n     \\\n",
    "f(x) = {beta2_0} + {beta2_1}*x\")\n",
    "# Lista de coeficientes B para cada X_train de grupo 3\n",
    "\n",
    "beta3_0 = round(model_rl3.intercept_,4)\n",
    "beta3_1 = round(model_rl3.coef_[0],4)\n",
    "\n",
    "print(f\"El mejor ajuste lineal para el grupo 3 viene dado por la recta: \\n\\n     \\\n",
    "f(x) = {beta3_0} + {beta3_1}*x\")\n",
    "# Lista de coeficientes B para cada X_train de grupo 4\n",
    "\n",
    "beta4_0 = round(model_rl4.intercept_,4)\n",
    "beta4_1 = round(model_rl4.coef_[0],4)\n",
    "\n",
    "print(f\"El mejor ajuste lineal para el grupo 4 viene dado por la recta: \\n\\n     \\\n",
    "f(x) = {beta4_0} + {beta4_1}*x\")\n"
   ]
  },
  {
   "cell_type": "code",
   "execution_count": 7,
   "metadata": {},
   "outputs": [
    {
     "data": {
      "image/png": "[encoded data removed]",
      "text/plain": [
       "<Figure size 1080x720 with 4 Axes>"
      ]
     },
     "metadata": {},
     "output_type": "display_data"
    }
   ],
   "source": [
    "# graficos con seaborn grafico 1\n",
    "plt.figure(figsize=(15,10))\n",
    "g1=plt.subplot(2,2,1)\n",
    "g2=plt.subplot(2,2,2)\n",
    "g3=plt.subplot(2,2,3)\n",
    "g4=plt.subplot(2,2,4)     \n",
    "\n",
    "x_range = np.arange(0,22,0.1)\n",
    "        \n",
    "df_plot1 = pd.DataFrame({'x':x_range,\n",
    "                        'y':[beta1_0 + beta1_1*n for n in x_range]})\n",
    "  \n",
    "df1 = pd.concat([X1_train,y1_train],axis=1)\n",
    "        \n",
    "        \n",
    "        \n",
    "grafico1A=sns.scatterplot(x='x', y='y', data=df1, ax=g1)\n",
    "grafico1B=sns.lineplot(x='x', y='y', data=df_plot1,ax=g1,color=\"green\")\n",
    "grafico1A.set(xlabel='x',ylabel='y')\n",
    "plt.xlabel('x')\n",
    "plt.ylabel('y')\n",
    "# graficos con seaborn grafico 2\n",
    "        \n",
    "    \n",
    "\n",
    "        \n",
    "df_plot2 = pd.DataFrame({'x':x_range,\n",
    "                        'y':[beta2_0 + beta2_1*n for n in x_range]})\n",
    "  \n",
    "df2 = pd.concat([X2_train,y2_train],axis=1)\n",
    "        \n",
    "        \n",
    "        \n",
    "grafico2A=sns.scatterplot(x='x', y='y', data=df2, ax=g2)\n",
    "grafico2B=sns.lineplot(x='x', y='y', data=df_plot2,ax=g2,color=\"green\")\n",
    "grafico2A.set(xlabel='x',ylabel='y')\n",
    "plt.xlabel('x')\n",
    "plt.ylabel('y')\n",
    "# graficos con seaborn grafico 3\n",
    "        \n",
    "    \n",
    "\n",
    "        \n",
    "df_plot3 = pd.DataFrame({'x':x_range,\n",
    "                        'y':[beta3_0 + beta3_1*n for n in x_range]})\n",
    "  \n",
    "df3 = pd.concat([X3_train,y3_train],axis=1)\n",
    "        \n",
    "        \n",
    "        \n",
    "grafico3A=sns.scatterplot(x='x', y='y', data=df3, ax=g3)\n",
    "grafico3B=sns.lineplot(x='x', y='y', data=df_plot3,ax=g3,color=\"green\")\n",
    "grafico3A.set(xlabel='x',ylabel='y')\n",
    "plt.xlabel('x')\n",
    "plt.ylabel('y')\n",
    "# graficos con seaborn grafico 4\n",
    "        \n",
    "    \n",
    "df_plot4 = pd.DataFrame({'x':x_range,\n",
    "                        'y':[beta4_0 + beta4_1*n for n in x_range]})\n",
    "\n",
    "\n",
    "df4 = pd.concat([X4_train,y4_train],axis=1)\n",
    "        \n",
    "        \n",
    "        \n",
    "grafico4A=sns.scatterplot(x='x', y='y', data=df4, ax=g4)\n",
    "grafico4B=sns.lineplot(x='x', y='y', data=df_plot4,ax=g4,color=\"green\")\n",
    "grafico4A.set(xlabel='x',ylabel='y')\n",
    "plt.xlabel('x')\n",
    "plt.ylabel('y')\n",
    "plt.show()"
   ]
  },
  {
   "cell_type": "markdown",
   "metadata": {},
   "source": [
    "# Parte 4"
   ]
  },
  {
   "cell_type": "code",
   "execution_count": 8,
   "metadata": {},
   "outputs": [
    {
     "name": "stdout",
     "output_type": "stream",
     "text": [
      "\n",
      "Metricas para el regresor grupo1:\n",
      "\n",
      "      mae     mse    rmse   mape  maape   wmape   mmape   smape      r2\n",
      "0  1.0394  1.8547  1.3619  0.124  0.122  0.1339  0.1103  0.1195  0.4884\n",
      "\n",
      "Metricas para el regresor grupo2:\n",
      "\n",
      "      mae     mse    rmse    mape   maape   wmape   mmape  smape     r2\n",
      "0  0.6914  0.6313  0.7945  0.0995  0.0989  0.0899  0.0863  0.098  0.791\n",
      "\n",
      "Metricas para el regresor grupo3:\n",
      "\n",
      "      mae    mse    rmse    mape   maape   wmape   mmape   smape      r2\n",
      "0  1.0622  4.504  2.1223  0.0835  0.0806  0.1273  0.0774  0.1001  0.3717\n",
      "\n",
      "Metricas para el regresor grupo4:\n",
      "\n",
      "      mae     mse   rmse    mape   maape   wmape   mmape  smape      r2\n",
      "0  1.0492  1.5155  1.231  0.1777  0.1734  0.1619  0.1518  0.158 -0.9902\n"
     ]
    }
   ],
   "source": [
    "from metrics_regression import *\n",
    "from sklearn.metrics import r2_score\n",
    "\n",
    "# Grupo1\n",
    "#Genero un dataframe con los valores de prueba con X e y\n",
    "df_temp1 = pd.DataFrame(\n",
    "    {\n",
    "        'y':y1_test,\n",
    "        'yhat': model_rl1.predict(X1_test)\n",
    "        }\n",
    ")\n",
    "#Genero metricas a partir de mis datos de testeo con mi modelo lineal encontrado en la sección anterior\n",
    "df_metrics1 = summary_metrics(df_temp1)\n",
    "df_metrics1['r2'] =  round(r2_score(y1_test, model_rl1.predict(X1_test)),4)\n",
    "print('\\nMetricas para el regresor grupo1:\\n')\n",
    "print(df_metrics1)\n",
    "\n",
    "# Grupo2\n",
    "#Genero un dataframe con los valores de prueba con X e y\n",
    "df_temp2 = pd.DataFrame(\n",
    "    {\n",
    "        'y':y2_test,\n",
    "        'yhat': model_rl2.predict(X2_test)\n",
    "        }\n",
    ")\n",
    "#Genero metricas a partir de mis datos de testeo con mi modelo lineal encontrado en la sección anterior\n",
    "df_metrics2 = summary_metrics(df_temp2)\n",
    "df_metrics2['r2'] =  round(r2_score(y2_test, model_rl2.predict(X2_test)),4)\n",
    "print('\\nMetricas para el regresor grupo2:\\n')\n",
    "print(df_metrics2)\n",
    "# Grupo3\n",
    "#Genero un dataframe con los valores de prueba con X e y\n",
    "df_temp3 = pd.DataFrame(\n",
    "    {\n",
    "        'y':y3_test,\n",
    "        'yhat': model_rl3.predict(X3_test)\n",
    "        }\n",
    ")\n",
    "#Genero metricas a partir de mis datos de testeo con mi modelo lineal encontrado en la sección anterior\n",
    "df_metrics3 = summary_metrics(df_temp3)\n",
    "df_metrics3['r2'] =  round(r2_score(y3_test, model_rl3.predict(X3_test)),4)\n",
    "print('\\nMetricas para el regresor grupo3:\\n')\n",
    "print(df_metrics3)\n",
    "# Grupo4\n",
    "#Genero un dataframe con los valores de prueba con X e y\n",
    "df_temp4 = pd.DataFrame(\n",
    "    {\n",
    "        'y':y4_test,\n",
    "        'yhat': model_rl4.predict(X4_test)\n",
    "        }\n",
    ")\n",
    "#Genero metricas a partir de mis datos de testeo con mi modelo lineal encontrado en la sección anterior\n",
    "df_metrics4 = summary_metrics(df_temp4)\n",
    "df_metrics4['r2'] =  round(r2_score(y4_test, model_rl4.predict(X4_test)),4)\n",
    "print('\\nMetricas para el regresor grupo4:\\n')\n",
    "print(df_metrics4)\n"
   ]
  },
  {
   "cell_type": "markdown",
   "metadata": {},
   "source": [
    "Se puede apreciar que para cada grupo hay un indice bajo de error para cada metrica excepto par r cuadrado, el cual solo es medianamente preciso para el grupo 1, y para el resto es bastante malo al acercarse mucho al valor cero, en especial destaca el grupo 4 que tiene coeficiente r cuadrado negativo lo que nos indica que el ajuste no tiene ningun sentido respecto a los datos entregados, esto nos dice que el grupo 4 probablemente tenga otro tipo de comportamiento que no es lineal."
   ]
  },
  {
   "cell_type": "markdown",
   "metadata": {},
   "source": [
    "# Parte 5"
   ]
  },
  {
   "cell_type": "markdown",
   "metadata": {},
   "source": [
    "Es claro que para el grupo 1 el ajuste es bueno ya que r cuadrado se aproxima a 1,\n",
    "por otro lado para el resto de grupos se debe cambiar el modelo que se esta usando.\n",
    "Grupo2: Se debe ocupar una regresion polinomica de grado 2, ya que es claro con ver los datos en el grafico que ese es su comportamiento\n",
    "Grupo3: Se debe eliminar el dato anomalo que esta causando problemas.\n",
    "Grupo4: Se deben invertir los ejes y eliminar el dato anomalo, para que así se tenga una buena aproximación lineal."
   ]
  },
  {
   "cell_type": "code",
   "execution_count": null,
   "metadata": {},
   "outputs": [],
   "source": []
  }
 ],
 "metadata": {
  "kernelspec": {
   "display_name": "Python 3",
   "language": "python",
   "name": "python3"
  },
  "language_info": {
   "codemirror_mode": {
    "name": "ipython",
    "version": 3
   },
   "file_extension": ".py",
   "mimetype": "text/x-python",
   "name": "python",
   "nbconvert_exporter": "python",
   "pygments_lexer": "ipython3",
   "version": "3.7.8"
  }
 },
 "nbformat": 4,
 "nbformat_minor": 4
}
